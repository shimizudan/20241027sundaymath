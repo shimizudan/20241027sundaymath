{
 "cells": [
  {
   "cell_type": "code",
   "execution_count": 27,
   "metadata": {},
   "outputs": [
    {
     "data": {
      "text/plain": [
       "Plots.Animation(\"/var/folders/qd/yc5c6dh155d763gb5rl38lmr0000gn/T/jl_y4xzde\", [\"000001.png\", \"000002.png\", \"000003.png\", \"000004.png\", \"000005.png\", \"000006.png\", \"000007.png\", \"000008.png\", \"000009.png\", \"000010.png\"  …  \"000591.png\", \"000592.png\", \"000593.png\", \"000594.png\", \"000595.png\", \"000596.png\", \"000597.png\", \"000598.png\", \"000599.png\", \"000600.png\"])"
      ]
     },
     "metadata": {},
     "output_type": "display_data"
    }
   ],
   "source": [
    "using Plots, Animations\n",
    "\n",
    "# Number of frames (increase for a slower animation)\n",
    "n = 600\n",
    "\n",
    "# Arrays to store the trajectory points\n",
    "x_traj = []\n",
    "y_traj = []\n",
    "\n",
    "# Create an animation\n",
    "anim = @animate for i in 1:n\n",
    "    θ = 2π * (i-1) / n\n",
    "    \n",
    "    # First vector (cos(θ), sin(θ))\n",
    "    v1_x = cos(θ)\n",
    "    v1_y = sin(θ)\n",
    "    \n",
    "    # Second vector (3/7)(cos(-99θ), sin(-99θ))\n",
    "    v2_x = 3/7 * cos(-99θ)\n",
    "    v2_y = 3/7 * sin(-99θ)\n",
    "    \n",
    "    # Sum of the two vectors\n",
    "    x = v1_x + v2_x\n",
    "    y = v1_y + v2_y\n",
    "    \n",
    "    # Append the current point to the trajectory\n",
    "    push!(x_traj, x)\n",
    "    push!(y_traj, y)\n",
    "    \n",
    "    # Plot the vectors and their sum\n",
    "    plot([0, v1_x], [0, v1_y], arrow=true, label=\"(cos(θ), sin(θ))\", linewidth=2,aspectratio=true)\n",
    "    plot!([v1_x, x], [v1_y, y], arrow=true, label=\"(3/7)(cos(-99θ), sin(-99θ))\", linewidth=2,aspectratio=true)\n",
    "    # plot!([0, x], [0, y], arrow=true, label=\"Sum\", linewidth=2)\n",
    "    \n",
    "    # Plot the trajectory\n",
    "    plot!(x_traj, y_traj, label=\"Trajectory\", linewidth=1.5, legend=:top,aspectratio=true)\n",
    "    \n",
    "    # Plot settings\n",
    "    xlims!(-2, 2)\n",
    "    ylims!(-2, 3)\n",
    "    aspectratio=true\n",
    "end\n",
    "\n",
    "# Save the animation as a gif with 15 frames per second for a slower effect\n",
    "#gif(anim, \"parametric_vector_sum_$n.gif\", fps=5)"
   ]
  },
  {
   "cell_type": "code",
   "execution_count": 24,
   "metadata": {},
   "outputs": [
    {
     "data": {
      "text/plain": [
       "Plots.Animation(\"/var/folders/qd/yc5c6dh155d763gb5rl38lmr0000gn/T/jl_OmAgDq\", [\"000001.png\", \"000002.png\", \"000003.png\", \"000004.png\", \"000005.png\", \"000006.png\", \"000007.png\", \"000008.png\", \"000009.png\", \"000010.png\"  …  \"000202.png\", \"000203.png\", \"000204.png\", \"000205.png\", \"000206.png\", \"000207.png\", \"000208.png\", \"000209.png\", \"000210.png\", \"000211.png\"])"
      ]
     },
     "metadata": {},
     "output_type": "display_data"
    }
   ],
   "source": [
    "using Plots, Animations\n",
    "\n",
    "# Number of frames (increase for a slower animation)\n",
    "n = 211\n",
    "\n",
    "# Arrays to store the trajectory points\n",
    "x_traj = []\n",
    "y_traj = []\n",
    "\n",
    "# Create an animation\n",
    "anim = @animate for i in 1:n\n",
    "    θ = 2π * (i-1) / n\n",
    "    \n",
    "    # First vector (cos(θ), sin(θ))\n",
    "    v1_x = cos(θ)\n",
    "    v1_y = sin(θ)\n",
    "    \n",
    "    # Second vector (3/7)(cos(-99θ), sin(-99θ))\n",
    "    v2_x = 3/7 * cos(-99θ)\n",
    "    v2_y = 3/7 * sin(-99θ)\n",
    "    \n",
    "    # Sum of the two vectors\n",
    "    x = v1_x + v2_x\n",
    "    y = v1_y + v2_y\n",
    "    \n",
    "    # Append the current point to the trajectory\n",
    "    push!(x_traj, x)\n",
    "    push!(y_traj, y)\n",
    "    \n",
    "    # Plot the vectors and their sum\n",
    "    plot([0, v1_x], [0, v1_y], arrow=true, label=\"(cos(θ), sin(θ))\", linewidth=2,aspectratio=true)\n",
    "    plot!([v1_x, x], [v1_y, y], arrow=true, label=\"(3/7)(cos(-99θ), sin(-99θ))\", linewidth=2,aspectratio=true)\n",
    "    # plot!([0, x], [0, y], arrow=true, label=\"Sum\", linewidth=2)\n",
    "    \n",
    "    # Plot the trajectory\n",
    "    plot!(x_traj, y_traj, label=\"Trajectory n=$n\", linewidth=1.5, legend=:top,aspectratio=true)\n",
    "    \n",
    "    # Plot settings\n",
    "    xlims!(-2, 2)\n",
    "    ylims!(-2, 3)\n",
    "    aspectratio=true\n",
    "end\n",
    "\n",
    "# Save the animation as a gif with 15 frames per second for a slower effect\n",
    "#gif(anim, \"parametric_vector_sum_$n.gif\", fps=5)"
   ]
  },
  {
   "cell_type": "code",
   "execution_count": null,
   "metadata": {},
   "outputs": [],
   "source": []
  }
 ],
 "metadata": {
  "kernelspec": {
   "display_name": "Julia 1.11.1",
   "language": "julia",
   "name": "julia-1.11"
  },
  "language_info": {
   "file_extension": ".jl",
   "mimetype": "application/julia",
   "name": "julia",
   "version": "1.11.1"
  }
 },
 "nbformat": 4,
 "nbformat_minor": 2
}
